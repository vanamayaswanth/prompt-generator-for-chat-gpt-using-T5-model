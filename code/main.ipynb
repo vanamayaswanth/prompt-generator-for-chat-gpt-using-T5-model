{
 "cells": [
  {
   "cell_type": "code",
   "execution_count": 1,
   "metadata": {},
   "outputs": [
    {
     "ename": "SyntaxError",
     "evalue": "future feature annotations is not defined (components.py, line 5)",
     "output_type": "error",
     "traceback": [
      "Traceback \u001b[1;36m(most recent call last)\u001b[0m:\n",
      "  File \u001b[0;32m\"d:\\Users\\YASWANTH\\anaconda3\\envs\\gr\\lib\\site-packages\\IPython\\core\\interactiveshell.py\"\u001b[0m, line \u001b[0;32m3343\u001b[0m, in \u001b[0;35mrun_code\u001b[0m\n    exec(code_obj, self.user_global_ns, self.user_ns)\n",
      "  File \u001b[0;32m\"<ipython-input-1-f56a2cb9ad92>\"\u001b[0m, line \u001b[0;32m2\u001b[0m, in \u001b[0;35m<module>\u001b[0m\n    import gradio as gr\n",
      "\u001b[1;36m  File \u001b[1;32m\"d:\\Users\\YASWANTH\\anaconda3\\envs\\gr\\lib\\site-packages\\gradio\\__init__.py\"\u001b[1;36m, line \u001b[1;32m3\u001b[1;36m, in \u001b[1;35m<module>\u001b[1;36m\u001b[0m\n\u001b[1;33m    import gradio.components as components\u001b[0m\n",
      "\u001b[1;36m  File \u001b[1;32m\"d:\\Users\\YASWANTH\\anaconda3\\envs\\gr\\lib\\site-packages\\gradio\\components.py\"\u001b[1;36m, line \u001b[1;32m5\u001b[0m\n\u001b[1;33m    from __future__ import annotations\u001b[0m\n\u001b[1;37m                                      ^\u001b[0m\n\u001b[1;31mSyntaxError\u001b[0m\u001b[1;31m:\u001b[0m future feature annotations is not defined\n"
     ]
    }
   ],
   "source": [
    "import pandas as pd\n",
    "import gradio as gr\n",
    "from transformers import T5Tokenizer, T5ForConditionalGeneration, AutoTokenizer\n",
    "\n",
    "# Load the data from CSV into a pandas DataFrame\n",
    "data = pd.read_excel(\"/content/promts.xlsx\")\n",
    "\n",
    "# Load the T5 tokenizer and model weights\n",
    "# tokenizer = AutoTokenizer.from_pretrained(\"t5-small\")\n",
    "model = T5ForConditionalGeneration.from_pretrained('t5-small')\n",
    "\n",
    "# Define a function to generate the prompt based on user-selected options\n",
    "def generate_prompt(industry, act, sub_act, sub_sub_act):\n",
    "    # Filter the data based on the selected options\n",
    "    filtered_data = data[(data['Industry'] == industry) &\n",
    "                         (data['Act'] == act) &\n",
    "                         (data['Sub-Act'] == sub_act)]\n",
    "                        # & (data['Sub-Sub Act'] == sub_sub_act)]\n",
    "    # Extract the prompt from the filtered data\n",
    "    prompt = filtered_data['Prompt'].values[0]\n",
    "    # Tokenize the prompt\n",
    "    inputs = tokenizer.encode(prompt, return_tensors='pt', max_length=512, truncation=True)\n",
    "    # Generate the prompt using the T5 model\n",
    "    outputs = model.generate(inputs, max_length=512, num_return_sequences=1, early_stopping=True)\n",
    "    # Decode the generated prompt\n",
    "    generated_prompt = tokenizer.decode(outputs[0], skip_special_tokens=True)\n",
    "    return generated_prompt\n",
    "\n",
    "# # # Create a Gradio interface\n",
    "# # # Define the options for the dropdown menus\n",
    "industry_options = data['Industry'].unique().tolist()\n",
    "act_options = data['Act'].unique().tolist()\n",
    "sub_act_options = data['Sub-Act'].unique().tolist()\n",
    "# sub_sub_act_options = data['Sub-Sub-Act'].unique().tolist()\n",
    "\n",
    "\n",
    "\n",
    "output_component = gr.outputs.Textbox(label=\"prompt\")\n",
    "\n",
    "# industry_options\n",
    "# # # Create the interface\n",
    "gr.Interface(generate_prompt,\n",
    "                inputs = [gr.inputs.Dropdown(industry_options, label=\"Industry\"),\n",
    "                    gr.inputs.Dropdown(act_options, label=\"Act\"),\n",
    "                    gr.inputs.Dropdown(sub_act_options, label=\"Sub-Act\")],\n",
    "                    # gr.inputs.Dropdown(sub_sub_act_options, label=\"Sub-Sub Act\")],\n",
    "                outputs = output_component,\n",
    "                title=\"Prompt Generator\",\n",
    "                description=\"Generate a prompt for your next blog post\").launch(debug=True)\n",
    "\n",
    "\n"
   ]
  },
  {
   "cell_type": "code",
   "execution_count": null,
   "metadata": {},
   "outputs": [],
   "source": [
    "#test the model\n",
    "# prompt = generate_prompt(\"Healthcare\", \"HIPAA\", \"Security\", \"Security Management Process\")\n"
   ]
  }
 ],
 "metadata": {
  "kernelspec": {
   "display_name": "gr",
   "language": "python",
   "name": "python3"
  },
  "language_info": {
   "codemirror_mode": {
    "name": "ipython",
    "version": 3
   },
   "file_extension": ".py",
   "mimetype": "text/x-python",
   "name": "python",
   "nbconvert_exporter": "python",
   "pygments_lexer": "ipython3",
   "version": "3.6.13"
  },
  "orig_nbformat": 4
 },
 "nbformat": 4,
 "nbformat_minor": 2
}
